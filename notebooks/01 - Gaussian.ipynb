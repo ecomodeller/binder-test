{
 "metadata": {
  "language_info": {
   "codemirror_mode": {
    "name": "ipython",
    "version": 3
   },
   "file_extension": ".py",
   "mimetype": "text/x-python",
   "name": "python",
   "nbconvert_exporter": "python",
   "pygments_lexer": "ipython3",
   "version": "3.8.3-final"
  },
  "orig_nbformat": 2,
  "kernelspec": {
   "name": "python3",
   "display_name": "Python 3"
  }
 },
 "nbformat": 4,
 "nbformat_minor": 2,
 "cells": [
  {
   "cell_type": "code",
   "execution_count": 3,
   "metadata": {},
   "outputs": [],
   "source": [
    "import numpy as np\n",
    "import matplotlib.pyplot as plt\n",
    "from scipy.stats import norm\n",
    "from ipywidgets import interact"
   ]
  },
  {
   "cell_type": "code",
   "execution_count": null,
   "metadata": {},
   "outputs": [],
   "source": []
  },
  {
   "cell_type": "code",
   "execution_count": 30,
   "metadata": {},
   "outputs": [
    {
     "output_type": "display_data",
     "data": {
      "text/plain": "interactive(children=(FloatSlider(value=0.5, description='model_mean', max=1.0), FloatSlider(value=0.5, descri…",
      "application/vnd.jupyter.widget-view+json": {
       "version_major": 2,
       "version_minor": 0,
       "model_id": "40a686f3817a48439065739edb874cc7"
      }
     },
     "metadata": {}
    }
   ],
   "source": [
    "@interact\n",
    "def fuse(model_mean=(0.0,1.0,0.1),\n",
    "         model_std=(0.1,1.0,0.1),\n",
    "         obs_mean=(-1.0,1.0,0.1),\n",
    "         obs_std=(0.1,1.0,0.1)\n",
    "         ):\n",
    "    x = np.linspace(-3,3,100)\n",
    "    dx = x[1] - x[0]\n",
    "    model = norm(loc=model_mean,scale=model_std).pdf(x)\n",
    "    obs = norm(loc=obs_mean,scale=obs_std).pdf(x)\n",
    "    fused = model*obs\n",
    "    fused = fused/(sum(fused)*dx) \n",
    "\n",
    "    plt.plot(x,model, label=\"Model\")\n",
    "    plt.plot(x,obs, label=\"Observation\")\n",
    "    plt.plot(x,fused, label=\"Fused\",linestyle='dashed')\n",
    "    plt.legend()"
   ]
  },
  {
   "cell_type": "code",
   "execution_count": null,
   "metadata": {},
   "outputs": [],
   "source": []
  }
 ]
}