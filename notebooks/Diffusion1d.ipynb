{
 "metadata": {
  "language_info": {
   "codemirror_mode": {
    "name": "ipython",
    "version": 3
   },
   "file_extension": ".py",
   "mimetype": "text/x-python",
   "name": "python",
   "nbconvert_exporter": "python",
   "pygments_lexer": "ipython3",
   "version": "3.8.3-final"
  },
  "orig_nbformat": 2,
  "kernelspec": {
   "name": "python3",
   "display_name": "Python 3"
  }
 },
 "nbformat": 4,
 "nbformat_minor": 2,
 "cells": [
  {
   "source": [
    "# Diffusion in 1D"
   ],
   "cell_type": "markdown",
   "metadata": {}
  },
  {
   "cell_type": "code",
   "execution_count": 1,
   "metadata": {},
   "outputs": [],
   "source": [
    "import numpy as np\n",
    "import matplotlib.pyplot as plt\n",
    "from scipy.ndimage import convolve\n",
    "from ipywidgets import interact, interactive, fixed, interact_manual\n",
    "import ipywidgets as widgets"
   ]
  },
  {
   "source": [
    "## Optimal interpolation\n",
    "\n"
   ],
   "cell_type": "markdown",
   "metadata": {}
  },
  {
   "cell_type": "code",
   "execution_count": 2,
   "metadata": {},
   "outputs": [
    {
     "output_type": "display_data",
     "data": {
      "text/plain": "interactive(children=(Dropdown(description='h_function', options=('exponential', 'gaussian'), value='exponenti…",
      "application/vnd.jupyter.widget-view+json": {
       "version_major": 2,
       "version_minor": 0,
       "model_id": "69a8abb9bfea4adeab6b34a26877ea94"
      }
     },
     "metadata": {}
    }
   ],
   "source": [
    "@interact\n",
    "def OI_Kalman(h_function=['exponential','gaussian'],h_scale=(1.0,5.0,1.0), obs_std_1=(0.1,0.2,0.005),obs_std_2=(0.1,0.2,0.005), model_std=(0.1,0.2,0.005)):\n",
    "    n = 50\n",
    "    x = np.linspace(0, 50, n)\n",
    "    nobs = 2\n",
    "    H = np.zeros(shape=(nobs,n))\n",
    "    H[0,20] = 1\n",
    "    H[1,40] = 1\n",
    "    \n",
    "    C = np.zeros(shape=(n,n))\n",
    "\n",
    "    for i in range(n):\n",
    "        for j in range(n):\n",
    "            dist = np.abs(x[i] - x[j])\n",
    "            if h_function=='exponential':\n",
    "                w = np.exp(-dist/h_scale)\n",
    "            else:\n",
    "                w = np.exp(-1/2*(dist**2/h_scale**2))\n",
    "            C[i,j] = w\n",
    "\n",
    "    P = model_std**2*C\n",
    "\n",
    "    R  = np.diag([obs_std_1**2,obs_std_2**2])\n",
    "    \n",
    "    PR = (H@P@H.T + R)\n",
    "    \n",
    "    # diagonal R\n",
    "    PRinv = PR.copy()\n",
    "    np.fill_diagonal(PRinv, 1/np.diagonal(PR)) \n",
    "\n",
    "    K = P@H.T @ PRinv\n",
    "    \n",
    "\n",
    "    fig, (ax1, ax2) = plt.subplots(ncols=2,figsize=(12,4))\n",
    "    ax1.plot(x,K)\n",
    "    ax1.set_ylim((0,1))\n",
    "    ax1.set_title(\"K: kalman gain\")\n",
    "    ax1.set_xlabel(\"x\")\n",
    "    \n",
    "    ax2.imshow(P,vmin=0,vmax=0.05)\n",
    "    ax2.set_title(\"P: model covariance\")"
   ]
  },
  {
   "source": [
    "## Data assimilation"
   ],
   "cell_type": "markdown",
   "metadata": {}
  },
  {
   "cell_type": "code",
   "execution_count": 3,
   "metadata": {},
   "outputs": [
    {
     "output_type": "display_data",
     "data": {
      "text/plain": "interactive(children=(Dropdown(description='scheme', options=('No DA', 'Direct insertion', 'OI'), value='No DA…",
      "application/vnd.jupyter.widget-view+json": {
       "version_major": 2,
       "version_minor": 0,
       "model_id": "c2c41993dac54341b85cf91f1713a6c4"
      }
     },
     "metadata": {}
    }
   ],
   "source": [
    "obs = np.array([1.        , 0.39430239, 0.28454729, 0.23153953, 0.19628773,\n",
    "       0.16936845, 0.1474706 , 0.12907749, 0.11334738, 0.09974623,\n",
    "       0.08790242])\n",
    "\n",
    "@interact\n",
    "def diffuse(scheme=['No DA', 'Direct insertion', 'OI'],\n",
    "            h_function=['exponential','gaussian'],\n",
    "            h_scale=(1.0,5.0,1.0),\n",
    "            diffusivity=(0.01, 0.1, 0.005),\n",
    "            model_std=(0.01,0.05,0.01),\n",
    "            obs_std=(0.01,0.05,0.01),\n",
    "            left_no_flux_boundary=False, right_no_flux_boundary=False,show_obs=False):\n",
    "\n",
    "    a = diffusivity\n",
    "    Nx = 50\n",
    "    Nt = 10001\n",
    "    t = np.linspace(0, 1, Nt)\n",
    "    x = np.linspace(0, 50, Nx)\n",
    "    Nout = (Nt // 1000) + 2\n",
    "    tout = np.linspace(0, 1, Nout-1)\n",
    "\n",
    "    T0 = np.zeros(Nx, dtype=float)\n",
    "    \n",
    "    T0[17:25] = 1.\n",
    "    T2 = T0.copy()\n",
    "\n",
    "    do_me          = np.ones_like(T0, dtype=bool)\n",
    "    \n",
    "    #if not no_flux_boundary:\n",
    "    do_me[[0, -1]] = False    #  keep the boundaries of your bounding box fixed\n",
    "\n",
    "    res = np.empty(shape=(Nout,Nx))\n",
    "    ts = np.empty(shape=(Nt,Nx))\n",
    "    res[0] = T0.copy()\n",
    "    kernel = np.array([a, (1 - 2.*a), a]) # diffusion kernel\n",
    "\n",
    "    iout = 1\n",
    "\n",
    "    n = 50\n",
    "    nobs = 1\n",
    "    H = np.zeros(shape=(nobs,n))\n",
    "    H[0,20] = 1\n",
    "    \n",
    "    P = np.zeros(shape=(n,n))\n",
    "\n",
    "    for i in range(n):\n",
    "        for j in range(n):\n",
    "            dist = np.abs(x[i] - x[j])\n",
    "            if h_function=='exponential':\n",
    "                w = np.exp(-dist/h_scale)\n",
    "            else:\n",
    "                w = np.exp(-1/2*(dist**2/h_scale**2))\n",
    "            P[i,j] = model_std**2*w\n",
    "\n",
    "    R  = np.diag(np.repeat(obs_std**2,nobs))\n",
    "    \n",
    "    PR = (H@P@H.T + R)\n",
    "    \n",
    "    # diagonal R\n",
    "    PRinv = PR.copy()\n",
    "    np.fill_diagonal(PRinv, 1/np.diagonal(PR)) \n",
    "\n",
    "    K = P@H.T @ PRinv\n",
    "\n",
    "    for i in range(Nt):\n",
    "        Ttemp      = convolve(T2, kernel)\n",
    "        T2[do_me]  = Ttemp[do_me]\n",
    "        \n",
    "        if left_no_flux_boundary:\n",
    "            T2[0] = T2[1]\n",
    "\n",
    "        if right_no_flux_boundary:\n",
    "            T2[-1] = T2[-2]\n",
    "\n",
    "        ts[i] = T2.copy()\n",
    "        if not i%1000:\n",
    "            if scheme == \"Direct insertion\":\n",
    "                T2[20] = obs[iout-1]\n",
    "            elif scheme == \"OI\":\n",
    "                x_f = T2\n",
    "                y = obs[iout-1]\n",
    "                \n",
    "                # Update equation\n",
    "                x_a =  x_f + K@(y - H@x_f)\n",
    "                \n",
    "                T2 = x_a\n",
    "\n",
    "            res[iout]= T2.copy()\n",
    "            iout+=1\n",
    "\n",
    "        \n",
    "    f, (ax1, ax2) = plt.subplots(1, 2, sharey=True, figsize=(16,6))\n",
    "    #for i in range(Nout):\n",
    "    #    thing = res[i,:]\n",
    "    ax1.plot(res[0],label=\"Initial\")\n",
    "    ax1.plot(res[2],label=\"tout=2\")\n",
    "    ax1.plot(res[5],label=\"tout=5\")\n",
    "    ax1.plot(res[-1],label=\"End\")\n",
    "    ax1.set_xlabel(\"Space\")\n",
    "    ax1.legend()\n",
    "\n",
    "    ax2.plot(t,ts[:,10],label=\"x=10\")\n",
    "    ax2.plot(t,ts[:,20],label=\"x=20\")\n",
    "    ax2.plot(t,ts[:,40],label=\"x=40\")\n",
    "    if show_obs:\n",
    "        ax2.scatter(tout,obs, label=\"Observation (x=20)\")\n",
    "    ax2.set_xlabel(\"Time\")\n",
    "    ax2.legend()"
   ]
  },
  {
   "cell_type": "code",
   "execution_count": null,
   "metadata": {},
   "outputs": [],
   "source": []
  }
 ]
}